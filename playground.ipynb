{
 "cells": [
  {
   "cell_type": "code",
   "execution_count": 1,
   "outputs": [],
   "source": [
    "import pandas as pd\n",
    "import itertools as itt\n",
    "import ppinetsim\n",
    "import numpy as np\n",
    "import matplotlib.pyplot as plt\n",
    "from scipy.stats import wasserstein_distance\n",
    "import networkx as nx\n",
    "import seaborn as sns\n",
    "from os.path import join"
   ],
   "metadata": {
    "collapsed": false,
    "pycharm": {
     "name": "#%%\n"
    }
   }
  },
  {
   "cell_type": "code",
   "execution_count": 2,
   "outputs": [],
   "source": [
    "def _construct_observed_network(parameters):\n",
    "    edge_list = []\n",
    "    for sampled_study in parameters.sampled_studies:\n",
    "        filename = join('ppinetsim', 'data', parameters.test_method, f'{sampled_study}.csv')\n",
    "        adj_sampled_study = pd.read_csv(filename, index_col=0)\n",
    "        for edge in itt.product(adj_sampled_study.index, adj_sampled_study.columns):\n",
    "            if adj_sampled_study.loc[edge]:\n",
    "                edge_list.append(edge)\n",
    "    observed_network = nx.Graph()\n",
    "    observed_network.add_edges_from(edge_list)\n",
    "    return nx.to_numpy_array(observed_network, dtype=bool)"
   ],
   "metadata": {
    "collapsed": false,
    "pycharm": {
     "name": "#%%\n"
    }
   }
  },
  {
   "cell_type": "markdown",
   "source": [
    "---\n",
    "# Sanity check"
   ],
   "metadata": {
    "collapsed": false,
    "pycharm": {
     "name": "#%% md\n"
    }
   }
  },
  {
   "cell_type": "code",
   "execution_count": 29,
   "outputs": [],
   "source": [
    "# FPR = FNR = 0, AP-MS testing.\n",
    "parameters = ppinetsim.Parameters('parameter_settings/params_AP-MS.json')"
   ],
   "metadata": {
    "collapsed": false,
    "pycharm": {
     "name": "#%%\n"
    }
   }
  },
  {
   "cell_type": "code",
   "execution_count": 30,
   "outputs": [],
   "source": [
    "adj_observed = _construct_observed_network(parameters)\n",
    "node_degrees_observed = ppinetsim.node_degrees(adj_observed)"
   ],
   "metadata": {
    "collapsed": false,
    "pycharm": {
     "name": "#%%\n"
    }
   }
  },
  {
   "cell_type": "code",
   "execution_count": 23,
   "outputs": [],
   "source": [
    "node_degrees_simulated_er, _, node_degrees_er, _ = ppinetsim.run_simulation(parameters, verbose=True)"
   ],
   "metadata": {
    "collapsed": false,
    "pycharm": {
     "name": "#%%\n"
    }
   }
  },
  {
   "cell_type": "code",
   "execution_count": 36,
   "outputs": [],
   "source": [
    "parameters.generator = 'barabasi-albert'"
   ],
   "metadata": {
    "collapsed": false,
    "pycharm": {
     "name": "#%%\n"
    }
   }
  },
  {
   "cell_type": "code",
   "execution_count": 8,
   "outputs": [],
   "source": [
    "node_degrees_simulated_ba, _, node_degrees_ba, _ = ppinetsim.run_simulation(parameters, verbose=True)"
   ],
   "metadata": {
    "collapsed": false,
    "pycharm": {
     "name": "#%%\n"
    }
   }
  },
  {
   "cell_type": "code",
   "execution_count": 32,
   "outputs": [],
   "source": [
    "distr_observed = ppinetsim.degrees_to_distribution(node_degrees_observed)\n",
    "distr_simulated_er = ppinetsim.degrees_to_distribution(node_degrees_simulated_er)\n",
    "distr_simulated_ba = ppinetsim.degrees_to_distribution(node_degrees_simulated_ba)\n",
    "distr_er = ppinetsim.degrees_to_distribution(node_degrees_er)\n",
    "distr_ba = ppinetsim.degrees_to_distribution(node_degrees_ba)"
   ],
   "metadata": {
    "collapsed": false,
    "pycharm": {
     "name": "#%%\n"
    }
   }
  },
  {
   "cell_type": "code",
   "execution_count": 33,
   "outputs": [
    {
     "data": {
      "text/plain": "Text(0, 0.5, 'Fraction')"
     },
     "execution_count": 33,
     "metadata": {},
     "output_type": "execute_result"
    },
    {
     "data": {
      "text/plain": "<Figure size 432x288 with 1 Axes>",
      "image/png": "[encoded data removed]"
     },
     "metadata": {
      "needs_background": "light"
     },
     "output_type": "display_data"
    }
   ],
   "source": [
    "plt.loglog(distr_simulated_er[0,],distr_simulated_er[1,],'go-') # Simulated from ER graph (green)\n",
    "plt.loglog(distr_er[0,],distr_er[1,],'yo-') # Ground truth ER graph (yellow)\n",
    "plt.loglog(distr_simulated_ba[0,],distr_simulated_ba[1,],'co-') # Simulated from BA graph (cyan)\n",
    "plt.loglog(distr_ba[0,],distr_ba[1,],'bo-') # Ground truth BA graph (blue)\n",
    "plt.loglog(distr_observed[0,],distr_observed[1,],'ro-') # Aggregated PPI network from 91 AP-MS studies with >= 200 PPIs (red)\n",
    "plt.xlabel('Degree')\n",
    "plt.ylabel('Fraction')"
   ],
   "metadata": {
    "collapsed": false,
    "pycharm": {
     "name": "#%%\n"
    }
   }
  },
  {
   "cell_type": "markdown",
   "source": [
    "- **Visual impression:** Using BA as ground (cyan) truth yields distribution that is closer to observed network (red) than using ER as ground truth (green)."
   ],
   "metadata": {
    "collapsed": false,
    "pycharm": {
     "name": "#%% md\n"
    }
   }
  },
  {
   "cell_type": "code",
   "execution_count": 34,
   "outputs": [
    {
     "data": {
      "text/plain": "11.640903017089158"
     },
     "execution_count": 34,
     "metadata": {},
     "output_type": "execute_result"
    }
   ],
   "source": [
    "wasserstein_distance(distr_simulated_ba[0,], distr_observed[0,], distr_simulated_ba[1,], distr_observed[1,])"
   ],
   "metadata": {
    "collapsed": false,
    "pycharm": {
     "name": "#%%\n"
    }
   }
  },
  {
   "cell_type": "code",
   "execution_count": 35,
   "outputs": [
    {
     "data": {
      "text/plain": "13.50080877698739"
     },
     "execution_count": 35,
     "metadata": {},
     "output_type": "execute_result"
    }
   ],
   "source": [
    "wasserstein_distance(distr_simulated_er[0,], distr_observed[0,], distr_simulated_er[1,], distr_observed[1,])"
   ],
   "metadata": {
    "collapsed": false,
    "pycharm": {
     "name": "#%%\n"
    }
   }
  },
  {
   "cell_type": "markdown",
   "source": [
    "**But:** The EMD tells a different story (distance for ER is smaller than distance for BA).\n",
    "\n",
    "**--> Why?**"
   ],
   "metadata": {
    "collapsed": false,
    "pycharm": {
     "name": "#%% md\n"
    }
   }
  },
  {
   "cell_type": "code",
   "execution_count": 31,
   "outputs": [
    {
     "data": {
      "text/plain": "159386.0"
     },
     "execution_count": 31,
     "metadata": {},
     "output_type": "execute_result"
    }
   ],
   "source": [
    "# Number of edges in observed PPI network\n",
    "node_degrees_observed.sum() / 2"
   ],
   "metadata": {
    "collapsed": false,
    "pycharm": {
     "name": "#%%\n"
    }
   }
  },
  {
   "cell_type": "code",
   "execution_count": 49,
   "outputs": [
    {
     "data": {
      "text/plain": "728"
     },
     "execution_count": 49,
     "metadata": {},
     "output_type": "execute_result"
    }
   ],
   "source": [
    "# Numbers of nodes in ovserved PPI network:\n",
    "len(node_degrees_observed)"
   ],
   "metadata": {
    "collapsed": false,
    "pycharm": {
     "name": "#%%\n"
    }
   }
  },
  {
   "cell_type": "code",
   "execution_count": 48,
   "outputs": [
    {
     "data": {
      "text/plain": "223292.0"
     },
     "execution_count": 48,
     "metadata": {},
     "output_type": "execute_result"
    }
   ],
   "source": [
    "# Numbers of edges in network simulated form ER graph.\n",
    "node_degrees_simulated_er.sum() / 2"
   ],
   "metadata": {
    "collapsed": false,
    "pycharm": {
     "name": "#%%\n"
    }
   }
  },
  {
   "cell_type": "code",
   "execution_count": 50,
   "outputs": [
    {
     "data": {
      "text/plain": "20000"
     },
     "execution_count": 50,
     "metadata": {},
     "output_type": "execute_result"
    }
   ],
   "source": [
    "# Numbers of nodes in network simulated form ER graph.\n",
    "len(node_degrees_simulated_er)"
   ],
   "metadata": {
    "collapsed": false,
    "pycharm": {
     "name": "#%%\n"
    }
   }
  },
  {
   "cell_type": "code",
   "execution_count": 47,
   "outputs": [
    {
     "data": {
      "text/plain": "285334.0"
     },
     "execution_count": 47,
     "metadata": {},
     "output_type": "execute_result"
    }
   ],
   "source": [
    "# Numbers of edges in network simulated form BA graph.\n",
    "node_degrees_simulated_ba.sum() / 2"
   ],
   "metadata": {
    "collapsed": false,
    "pycharm": {
     "name": "#%%\n"
    }
   }
  },
  {
   "cell_type": "code",
   "execution_count": 51,
   "outputs": [
    {
     "data": {
      "text/plain": "20000"
     },
     "execution_count": 51,
     "metadata": {},
     "output_type": "execute_result"
    }
   ],
   "source": [
    "# Numbers of nodes in network simulated form BA graph.\n",
    "len(node_degrees_simulated_ba)"
   ],
   "metadata": {
    "collapsed": false,
    "pycharm": {
     "name": "#%%\n"
    }
   }
  },
  {
   "cell_type": "markdown",
   "source": [
    "- **Observation**: With our parameter settings, we have much more edges in simulated networks than in the observed network obtained by merging the 91 AP-MS studies with >= 200 PPIs.\n",
    "- So we are comparing networks that live on completely different scales.\n",
    "- **Consequence:** Need to either reduce numbers of nodes and edges in simulated networks or aggregate much more studies to obtain significantly larger observed networks."
   ],
   "metadata": {
    "collapsed": false,
    "pycharm": {
     "name": "#%% md\n"
    }
   }
  },
  {
   "cell_type": "code",
   "execution_count": 52,
   "outputs": [
    {
     "data": {
      "text/plain": "0.223292"
     },
     "execution_count": 52,
     "metadata": {},
     "output_type": "execute_result"
    }
   ],
   "source": [
    "# Fraction of discovered\n",
    "node_degrees_simulated_er.sum() / node_degrees_er.sum()"
   ],
   "metadata": {
    "collapsed": false,
    "pycharm": {
     "name": "#%%\n"
    }
   }
  },
  {
   "cell_type": "code",
   "execution_count": 46,
   "outputs": [
    {
     "data": {
      "text/plain": "0.28603507196137734"
     },
     "execution_count": 46,
     "metadata": {},
     "output_type": "execute_result"
    }
   ],
   "source": [
    "# Fraction of discovered\n",
    "node_degrees_simulated_ba.sum() / node_degrees_ba.sum()"
   ],
   "metadata": {
    "collapsed": false,
    "pycharm": {
     "name": "#%%\n"
    }
   }
  },
  {
   "cell_type": "markdown",
   "source": [
    "- In our simulations, we recover around 25% of the edges in the ground truth edges (at least with the parameter settings we have used for the sanity check).\n",
    "- **One option that might work:** Set numbers of nodes in ground truth to number of nodes in aggregated observed network and number of edges in ground truth to 4 times the number of edges in observed network.\n",
    "- **What do you think?**\n",
    "- I'd like to have your feedback before moving on, because this change would require some additional implementation work."
   ],
   "metadata": {
    "collapsed": false,
    "pycharm": {
     "name": "#%% md\n"
    }
   }
  },
  {
   "cell_type": "markdown",
   "source": [
    "---\n",
    "# Other stuff"
   ],
   "metadata": {
    "collapsed": false,
    "pycharm": {
     "name": "#%% md\n"
    }
   }
  },
  {
   "cell_type": "code",
   "execution_count": 15,
   "outputs": [],
   "source": [
    "filename = 'ppinetsim/data/AP-MS/1328865.csv'\n",
    "adj_sampled_study = pd.read_csv(filename, index_col=0)"
   ],
   "metadata": {
    "collapsed": false,
    "pycharm": {
     "name": "#%%\n"
    }
   }
  },
  {
   "cell_type": "code",
   "execution_count": 41,
   "outputs": [],
   "source": [
    "likelihood_at_k['k'] = likelihood_at_k.index"
   ],
   "metadata": {
    "collapsed": false,
    "pycharm": {
     "name": "#%%\n"
    }
   }
  },
  {
   "cell_type": "code",
   "execution_count": 42,
   "outputs": [],
   "source": [
    "data = likelihood_at_k.melt(value_vars=['erdos-renyi', 'barabasi-albert'], id_vars=['k'],\n",
    "                     var_name='generator', value_name='likelihood')"
   ],
   "metadata": {
    "collapsed": false,
    "pycharm": {
     "name": "#%%\n"
    }
   }
  },
  {
   "cell_type": "code",
   "execution_count": 26,
   "outputs": [
    {
     "data": {
      "text/plain": "     k        generator  likelihood\n0    1      erdos-renyi    1.000000\n1    2      erdos-renyi    0.500000\n2    3      erdos-renyi    0.666667\n3    4      erdos-renyi    0.750000\n4    5      erdos-renyi    0.800000\n5    6      erdos-renyi    0.666667\n6    7      erdos-renyi    0.571429\n7    8      erdos-renyi    0.500000\n8    9      erdos-renyi    0.444444\n9   10      erdos-renyi    0.500000\n10   1  barabasi-albert    0.000000\n11   2  barabasi-albert    0.500000\n12   3  barabasi-albert    0.333333\n13   4  barabasi-albert    0.250000\n14   5  barabasi-albert    0.200000\n15   6  barabasi-albert    0.333333\n16   7  barabasi-albert    0.428571\n17   8  barabasi-albert    0.500000\n18   9  barabasi-albert    0.555556\n19  10  barabasi-albert    0.500000",
      "text/html": "<div>\n<style scoped>\n    .dataframe tbody tr th:only-of-type {\n        vertical-align: middle;\n    }\n\n    .dataframe tbody tr th {\n        vertical-align: top;\n    }\n\n    .dataframe thead th {\n        text-align: right;\n    }\n</style>\n<table border=\"1\" class=\"dataframe\">\n  <thead>\n    <tr style=\"text-align: right;\">\n      <th></th>\n      <th>k</th>\n      <th>generator</th>\n      <th>likelihood</th>\n    </tr>\n  </thead>\n  <tbody>\n    <tr>\n      <th>0</th>\n      <td>1</td>\n      <td>erdos-renyi</td>\n      <td>1.000000</td>\n    </tr>\n    <tr>\n      <th>1</th>\n      <td>2</td>\n      <td>erdos-renyi</td>\n      <td>0.500000</td>\n    </tr>\n    <tr>\n      <th>2</th>\n      <td>3</td>\n      <td>erdos-renyi</td>\n      <td>0.666667</td>\n    </tr>\n    <tr>\n      <th>3</th>\n      <td>4</td>\n      <td>erdos-renyi</td>\n      <td>0.750000</td>\n    </tr>\n    <tr>\n      <th>4</th>\n      <td>5</td>\n      <td>erdos-renyi</td>\n      <td>0.800000</td>\n    </tr>\n    <tr>\n      <th>5</th>\n      <td>6</td>\n      <td>erdos-renyi</td>\n      <td>0.666667</td>\n    </tr>\n    <tr>\n      <th>6</th>\n      <td>7</td>\n      <td>erdos-renyi</td>\n      <td>0.571429</td>\n    </tr>\n    <tr>\n      <th>7</th>\n      <td>8</td>\n      <td>erdos-renyi</td>\n      <td>0.500000</td>\n    </tr>\n    <tr>\n      <th>8</th>\n      <td>9</td>\n      <td>erdos-renyi</td>\n      <td>0.444444</td>\n    </tr>\n    <tr>\n      <th>9</th>\n      <td>10</td>\n      <td>erdos-renyi</td>\n      <td>0.500000</td>\n    </tr>\n    <tr>\n      <th>10</th>\n      <td>1</td>\n      <td>barabasi-albert</td>\n      <td>0.000000</td>\n    </tr>\n    <tr>\n      <th>11</th>\n      <td>2</td>\n      <td>barabasi-albert</td>\n      <td>0.500000</td>\n    </tr>\n    <tr>\n      <th>12</th>\n      <td>3</td>\n      <td>barabasi-albert</td>\n      <td>0.333333</td>\n    </tr>\n    <tr>\n      <th>13</th>\n      <td>4</td>\n      <td>barabasi-albert</td>\n      <td>0.250000</td>\n    </tr>\n    <tr>\n      <th>14</th>\n      <td>5</td>\n      <td>barabasi-albert</td>\n      <td>0.200000</td>\n    </tr>\n    <tr>\n      <th>15</th>\n      <td>6</td>\n      <td>barabasi-albert</td>\n      <td>0.333333</td>\n    </tr>\n    <tr>\n      <th>16</th>\n      <td>7</td>\n      <td>barabasi-albert</td>\n      <td>0.428571</td>\n    </tr>\n    <tr>\n      <th>17</th>\n      <td>8</td>\n      <td>barabasi-albert</td>\n      <td>0.500000</td>\n    </tr>\n    <tr>\n      <th>18</th>\n      <td>9</td>\n      <td>barabasi-albert</td>\n      <td>0.555556</td>\n    </tr>\n    <tr>\n      <th>19</th>\n      <td>10</td>\n      <td>barabasi-albert</td>\n      <td>0.500000</td>\n    </tr>\n  </tbody>\n</table>\n</div>"
     },
     "execution_count": 26,
     "metadata": {},
     "output_type": "execute_result"
    }
   ],
   "source": [
    "data"
   ],
   "metadata": {
    "collapsed": false,
    "pycharm": {
     "name": "#%%\n"
    }
   }
  },
  {
   "cell_type": "code",
   "execution_count": 18,
   "outputs": [],
   "source": [
    "edge_list = []\n",
    "for edge in itt.product(adj_sampled_study.index, adj_sampled_study.columns):\n",
    "    if adj_sampled_study.loc[edge]:\n",
    "        edge_list.append(edge)"
   ],
   "metadata": {
    "collapsed": false,
    "pycharm": {
     "name": "#%%\n"
    }
   }
  },
  {
   "cell_type": "code",
   "execution_count": 21,
   "outputs": [],
   "source": [
    "observed_network = nx.Graph()\n",
    "observed_network.add_edges_from(edge_list)"
   ],
   "metadata": {
    "collapsed": false,
    "pycharm": {
     "name": "#%%\n"
    }
   }
  },
  {
   "cell_type": "code",
   "execution_count": 43,
   "outputs": [
    {
     "data": {
      "text/plain": "<Figure size 472.125x360 with 1 Axes>",
      "image/png": "[encoded data removed]"
     },
     "metadata": {
      "needs_background": "light"
     },
     "output_type": "display_data"
    }
   ],
   "source": [
    "fig = sns.relplot(data=data, x='k', y='likelihood', hue='generator', kind='line')"
   ],
   "metadata": {
    "collapsed": false,
    "pycharm": {
     "name": "#%%\n"
    }
   }
  },
  {
   "cell_type": "code",
   "execution_count": 37,
   "outputs": [],
   "source": [
    "fig.savefig('bayesian_inference.pdf')"
   ],
   "metadata": {
    "collapsed": false,
    "pycharm": {
     "name": "#%%\n"
    }
   }
  },
  {
   "cell_type": "code",
   "execution_count": null,
   "outputs": [],
   "source": [],
   "metadata": {
    "collapsed": false,
    "pycharm": {
     "name": "#%%\n"
    }
   }
  }
 ],
 "metadata": {
  "kernelspec": {
   "display_name": "Python 3",
   "language": "python",
   "name": "python3"
  },
  "language_info": {
   "codemirror_mode": {
    "name": "ipython",
    "version": 2
   },
   "file_extension": ".py",
   "mimetype": "text/x-python",
   "name": "python",
   "nbconvert_exporter": "python",
   "pygments_lexer": "ipython2",
   "version": "2.7.6"
  }
 },
 "nbformat": 4,
 "nbformat_minor": 0
}