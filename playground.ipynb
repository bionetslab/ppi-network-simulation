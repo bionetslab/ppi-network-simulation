{
 "cells": [
  {
   "cell_type": "code",
   "execution_count": 1,
   "outputs": [],
   "source": [
    "import ppinetsim\n",
    "import numpy as np\n",
    "import matplotlib.pyplot as plt"
   ],
   "metadata": {
    "collapsed": false,
    "pycharm": {
     "name": "#%%\n"
    }
   }
  },
  {
   "cell_type": "code",
   "execution_count": 2,
   "outputs": [],
   "source": [
    "parameters = ppinetsim.Parameters('parameter_settings/params_1.json')"
   ],
   "metadata": {
    "collapsed": false,
    "pycharm": {
     "name": "#%%\n"
    }
   }
  },
  {
   "cell_type": "code",
   "execution_count": 7,
   "outputs": [],
   "source": [
    "node_degrees, num_ppis = ppinetsim.run_simulation(parameters, verbose=True)"
   ],
   "metadata": {
    "collapsed": false,
    "pycharm": {
     "name": "#%%\n"
    }
   }
  },
  {
   "cell_type": "code",
   "execution_count": 12,
   "outputs": [
    {
     "data": {
      "text/plain": "Text(0, 0.5, 'Frequency')"
     },
     "execution_count": 12,
     "metadata": {},
     "output_type": "execute_result"
    },
    {
     "data": {
      "text/plain": "<Figure size 432x288 with 1 Axes>",
      "image/png": "[encoded data removed]"
     },
     "metadata": {
      "needs_background": "light"
     },
     "output_type": "display_data"
    }
   ],
   "source": [
    "degree_distributions = node_degrees[-1:]\n",
    "freqs = np.asarray(np.unique(node_degrees, return_counts=True), dtype=float)\n",
    "plt.loglog(freqs[0,],freqs[1,],'go-')\n",
    "plt.xlabel('Degree')\n",
    "plt.ylabel('Frequency')"
   ],
   "metadata": {
    "collapsed": false,
    "pycharm": {
     "name": "#%%\n"
    }
   }
  },
  {
   "cell_type": "code",
   "execution_count": 13,
   "outputs": [],
   "source": [
    "freqs[1,] /= freqs[1,].sum()"
   ],
   "metadata": {
    "collapsed": false,
    "pycharm": {
     "name": "#%%\n"
    }
   }
  },
  {
   "cell_type": "code",
   "execution_count": 14,
   "outputs": [
    {
     "data": {
      "text/plain": "array([[0.00000000e+00, 1.00000000e+00, 2.00000000e+00, 3.00000000e+00,\n        4.00000000e+00, 5.00000000e+00, 6.00000000e+00, 7.00000000e+00,\n        8.00000000e+00, 1.60000000e+02, 1.68000000e+02, 1.69000000e+02,\n        1.77000000e+02, 1.81000000e+02, 1.83000000e+02, 1.84000000e+02,\n        1.85000000e+02, 1.86000000e+02, 1.88000000e+02, 1.89000000e+02,\n        1.90000000e+02, 1.91000000e+02, 1.92000000e+02, 1.93000000e+02,\n        1.94000000e+02, 1.95000000e+02, 1.97000000e+02, 1.98000000e+02,\n        1.99000000e+02, 2.00000000e+02, 2.01000000e+02, 2.02000000e+02,\n        2.03000000e+02, 2.04000000e+02, 2.05000000e+02, 2.06000000e+02,\n        2.07000000e+02, 2.08000000e+02, 2.09000000e+02, 2.10000000e+02,\n        2.11000000e+02, 2.12000000e+02, 2.13000000e+02, 2.14000000e+02,\n        2.15000000e+02, 2.16000000e+02, 2.18000000e+02, 2.20000000e+02,\n        2.21000000e+02, 2.22000000e+02, 2.23000000e+02, 2.24000000e+02,\n        2.27000000e+02, 2.28000000e+02, 2.29000000e+02, 2.32000000e+02,\n        2.33000000e+02, 3.73000000e+02, 3.81000000e+02, 3.82000000e+02,\n        3.91000000e+02, 3.98000000e+02, 4.05000000e+02, 4.16000000e+02,\n        4.17000000e+02, 4.28000000e+02, 4.30000000e+02, 4.31000000e+02,\n        5.93000000e+02, 6.04000000e+02, 6.05000000e+02, 6.09000000e+02,\n        6.37000000e+02, 6.46000000e+02, 7.93000000e+02, 8.01000000e+02],\n       [6.24186364e-01, 2.63763636e-01, 8.37227273e-02, 2.10772727e-02,\n        4.38636364e-03, 6.72727273e-04, 1.04545455e-04, 2.72727273e-05,\n        4.54545455e-06, 9.09090909e-06, 9.09090909e-06, 1.36363636e-05,\n        9.09090909e-06, 3.18181818e-05, 9.09090909e-06, 3.18181818e-05,\n        4.09090909e-05, 9.09090909e-06, 5.90909091e-05, 4.54545455e-06,\n        3.63636364e-05, 1.36363636e-05, 9.09090909e-06, 4.54545455e-06,\n        3.63636364e-05, 2.72727273e-05, 3.18181818e-05, 6.36363636e-05,\n        9.54545455e-05, 1.81818182e-05, 1.00000000e-04, 1.22727273e-04,\n        4.54545455e-05, 5.00000000e-05, 1.00000000e-04, 1.27272727e-04,\n        3.63636364e-05, 5.45454545e-05, 4.54545455e-05, 5.90909091e-05,\n        5.90909091e-05, 2.72727273e-05, 4.54545455e-05, 2.72727273e-05,\n        4.09090909e-05, 9.09090909e-06, 4.54545455e-06, 4.09090909e-05,\n        4.54545455e-06, 2.27272727e-05, 3.18181818e-05, 1.81818182e-05,\n        3.18181818e-05, 1.36363636e-05, 4.54545455e-06, 1.81818182e-05,\n        3.63636364e-05, 9.09090909e-06, 4.54545455e-06, 1.36363636e-05,\n        4.54545455e-06, 9.09090909e-06, 1.36363636e-05, 1.36363636e-05,\n        3.63636364e-05, 1.81818182e-05, 4.54545455e-05, 9.09090909e-06,\n        4.54545455e-06, 9.09090909e-06, 1.36363636e-05, 4.09090909e-05,\n        1.81818182e-05, 9.09090909e-06, 3.18181818e-05, 9.09090909e-06]])"
     },
     "execution_count": 14,
     "metadata": {},
     "output_type": "execute_result"
    }
   ],
   "source": [
    "freqs"
   ],
   "metadata": {
    "collapsed": false,
    "pycharm": {
     "name": "#%%\n"
    }
   }
  }
 ],
 "metadata": {
  "kernelspec": {
   "display_name": "Python 3",
   "language": "python",
   "name": "python3"
  },
  "language_info": {
   "codemirror_mode": {
    "name": "ipython",
    "version": 2
   },
   "file_extension": ".py",
   "mimetype": "text/x-python",
   "name": "python",
   "nbconvert_exporter": "python",
   "pygments_lexer": "ipython2",
   "version": "2.7.6"
  }
 },
 "nbformat": 4,
 "nbformat_minor": 0
}