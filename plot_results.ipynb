{
 "cells": [
  {
   "cell_type": "code",
   "execution_count": 54,
   "metadata": {
    "collapsed": true,
    "pycharm": {
     "name": "#%%\n"
    }
   },
   "outputs": [],
   "source": [
    "import pandas as pd\n",
    "import itertools as itt\n",
    "import ppinetsim\n",
    "import numpy as np\n",
    "import matplotlib.pyplot as plt\n",
    "import json\n",
    "import itertools as itt\n",
    "import seaborn as sns"
   ]
  },
  {
   "cell_type": "code",
   "execution_count": 5,
   "outputs": [],
   "source": [
    "def to_string(x):\n",
    "    return ''.join(str(x).split('.'))\n",
    "\n",
    "def load_results(test_method, acceptance_threshold, false_positive_rate, false_negative_rate):\n",
    "    infix = f'accTh{to_string(acceptance_threshold)}_FPR{to_string(false_positive_rate)}_FNR{to_string(false_negative_rate)}'\n",
    "    directory = f'output_results/{test_method}/{infix}'\n",
    "    posteriors = pd.read_csv(f'{directory}/likelihood_{test_method}_{infix}.csv')\n",
    "    with open(f'{directory}/all_results_{test_method}_{infix}.json') as fp:\n",
    "        all_results = json.load(fp)\n",
    "    return posteriors, all_results"
   ],
   "metadata": {
    "collapsed": false,
    "pycharm": {
     "name": "#%%\n"
    }
   }
  },
  {
   "cell_type": "markdown",
   "source": [],
   "metadata": {
    "collapsed": false,
    "pycharm": {
     "name": "#%% md\n"
    }
   }
  },
  {
   "cell_type": "code",
   "execution_count": 24,
   "outputs": [],
   "source": [
    "def mean_difference_posteriors(posteriors):\n",
    "    n = posteriors.shape[0]\n",
    "    all_differences = [posteriors.loc[i, 'Barabasi-Albert'] - posteriors.loc[i, 'Erdos-Renyi'] for i in range(n)]\n",
    "    return np.mean(all_differences)"
   ],
   "metadata": {
    "collapsed": false,
    "pycharm": {
     "name": "#%%\n"
    }
   }
  },
  {
   "cell_type": "code",
   "execution_count": 50,
   "outputs": [],
   "source": [
    "def deltas_mean_distances(test_method, acceptance_threshold):\n",
    "    fprs = fnrs = [0.0,0.1,0.2,0.3,0.4]\n",
    "    data = {'FPR': [], 'FNR': [], 'delta_mean_dist': []}\n",
    "    for fpr, fnr in itt.product(fprs, fnrs):\n",
    "        _, all_results = load_results(test_method, acceptance_threshold, fpr, fnr)\n",
    "        dists_ba = []\n",
    "        dists_er = []\n",
    "        for dist, generator, _ in all_results:\n",
    "            if generator == 'barabasi-albert':\n",
    "                dists_ba.append(dist)\n",
    "            else:\n",
    "                dists_er.append(dist)\n",
    "        data['delta_mean_dist'].append(np.mean(dists_er) - np.mean(dists_ba))\n",
    "        data['FPR'].append(fpr)\n",
    "        data['FNR'].append(fnr)\n",
    "    return pd.DataFrame(data=data)"
   ],
   "metadata": {
    "collapsed": false,
    "pycharm": {
     "name": "#%%\n"
    }
   }
  },
  {
   "cell_type": "code",
   "execution_count": 51,
   "outputs": [],
   "source": [
    "deltas = deltas_mean_distances('Y2H', 0.0)"
   ],
   "metadata": {
    "collapsed": false,
    "pycharm": {
     "name": "#%%\n"
    }
   }
  },
  {
   "cell_type": "code",
   "execution_count": 56,
   "outputs": [
    {
     "data": {
      "text/plain": "<AxesSubplot:xlabel='FNR', ylabel='FPR'>"
     },
     "execution_count": 56,
     "metadata": {},
     "output_type": "execute_result"
    },
    {
     "data": {
      "text/plain": "<Figure size 432x288 with 2 Axes>",
      "image/png": "[encoded data removed]"
     },
     "metadata": {
      "needs_background": "light"
     },
     "output_type": "display_data"
    }
   ],
   "source": [
    "sns.heatmap(deltas.pivot('FPR', 'FNR', 'delta_mean_dist'),annot=True)"
   ],
   "metadata": {
    "collapsed": false,
    "pycharm": {
     "name": "#%%\n"
    }
   }
  }
 ],
 "metadata": {
  "kernelspec": {
   "display_name": "Python 3",
   "language": "python",
   "name": "python3"
  },
  "language_info": {
   "codemirror_mode": {
    "name": "ipython",
    "version": 2
   },
   "file_extension": ".py",
   "mimetype": "text/x-python",
   "name": "python",
   "nbconvert_exporter": "python",
   "pygments_lexer": "ipython2",
   "version": "2.7.6"
  }
 },
 "nbformat": 4,
 "nbformat_minor": 0
}